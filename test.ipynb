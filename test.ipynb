{
 "cells": [
  {
   "cell_type": "code",
   "execution_count": 4,
   "metadata": {},
   "outputs": [],
   "source": [
    "import PIL.Image\n",
    "from random import randint\n",
    "\n",
    "path = r\"C:\\Users\\tianc\\AppData\\Roaming\\Microsoft\\Windows\\Themes\\TranscodedWallpaper\"\n",
    "# read image as jpeg\n",
    "img = PIL.Image.open(path)\n",
    "img.show()\n",
    "    "
   ]
  },
  {
   "cell_type": "code",
   "execution_count": 15,
   "metadata": {},
   "outputs": [],
   "source": [
    "out = open(\"colors.txt\", \"w\")\n",
    "i = 0\n",
    "while i < 1000:\n",
    "    # random pixel\n",
    "    x = randint(0, img.size[0]-1)\n",
    "    y = randint(0, img.size[1]-1)\n",
    "    # read pixel\n",
    "    pixel = img.getpixel((x, y))\n",
    "    # vector length of pixel\n",
    "    f = (1 + 255/((pixel[0]**2 + pixel[1]**2 + pixel[2]**2)**0.5))/2\n",
    "    pixel2 = (int(pixel[0]*f), int(pixel[1]*f), int(pixel[2]*f))\n",
    "    out.write(\" \".join(map(str, pixel2)) + \"\\n\")\n",
    "    i+= 1\n",
    "\n",
    "out.close()"
   ]
  }
 ],
 "metadata": {
  "kernelspec": {
   "display_name": "Python 3.9.6 64-bit",
   "language": "python",
   "name": "python3"
  },
  "language_info": {
   "codemirror_mode": {
    "name": "ipython",
    "version": 3
   },
   "file_extension": ".py",
   "mimetype": "text/x-python",
   "name": "python",
   "nbconvert_exporter": "python",
   "pygments_lexer": "ipython3",
   "version": "3.9.6"
  },
  "orig_nbformat": 4,
  "vscode": {
   "interpreter": {
    "hash": "ab42fdba7a1d31ec8c96adf259370f3fcb8953a231754087513d5c2b5f9cfeba"
   }
  }
 },
 "nbformat": 4,
 "nbformat_minor": 2
}
